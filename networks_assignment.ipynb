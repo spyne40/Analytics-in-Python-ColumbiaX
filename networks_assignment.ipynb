{
 "cells": [
  {
   "cell_type": "code",
   "execution_count": 171,
   "metadata": {},
   "outputs": [],
   "source": [
    "\"\"\"\n",
    "Modify the following get_connections function so that it takes a network, a person,\n",
    "and a relationship type as arguments and returns the list of nodes that are connected \n",
    "to the person by the relationship -- this includes extended relations \n",
    "\n",
    "Example of use:\n",
    "get_connections(G,'John','family') \n",
    "Should return [John, Jill, Samantha, Qing, Jorge, Gur].\n",
    "\"\"\"\n",
    "\n",
    "import networkx as nx\n",
    "G = nx.Graph()\n",
    "nodes = [\"Gur\",\"Qing\",\"Samantha\",\"Jorge\",\"Lakshmi\",\"Jack\",\"John\",\"Jill\"]\n",
    "edges = [(\"Gur\",\"Qing\",{\"source\":\"work\"}),\n",
    "         (\"Gur\",\"Jorge\", {\"source\":\"family\"}),\n",
    "        (\"Samantha\",\"Qing\", {\"source\":\"family\"}),\n",
    "        (\"Jack\",\"Qing\", {\"source\":\"work\"}),\n",
    "        (\"Jorge\",\"Lakshmi\", {\"source\":\"work\"}),\n",
    "        (\"Jorge\",\"Samantha\",{\"source\":\"family\"}),\n",
    "        (\"Samantha\",\"John\", {\"source\":\"family\"}),\n",
    "        (\"Lakshmi\",\"Jack\", {\"source\":\"family\"}),\n",
    "        (\"Jack\",\"Jill\", {\"source\":\"charity\"}),\n",
    "        (\"Jill\",\"John\",{\"source\":\"family\"})]\n",
    "G.add_nodes_from(nodes)\n",
    "G.add_edges_from(edges)\n",
    "\n",
    "connections =[]\n",
    "\n",
    "counter = 0\n",
    "\n",
    "\n",
    "##Recursive function to collect connections \n",
    "    \n",
    "def get_connections(graph,node,relationship):\n",
    "    direct_edges = graph.edges(nbunch=node,data=True)  ##this returns all direct edges to given node \n",
    "    \n",
    "    counter = 0\n",
    "            \n",
    "    for edge in direct_edges:\n",
    "        if edge[2]['source'] == relationship:\n",
    "            if (edge[1] not in connections):\n",
    "                connections.append(edge[1])\n",
    "                counter =+ 1   \n",
    "             \n",
    "    if counter == 0:    \n",
    "        return connections\n",
    "\n",
    "    else:\n",
    "        get_connections(G,connections,relationship) \n",
    "        "
   ]
  },
  {
   "cell_type": "code",
   "execution_count": 173,
   "metadata": {},
   "outputs": [
    {
     "name": "stdout",
     "output_type": "stream",
     "text": [
      "['Samantha', 'Jill', 'Qing', 'Jorge', 'John', 'Gur']\n"
     ]
    }
   ],
   "source": [
    "print(get_connections(G,'John','family'))"
   ]
  },
  {
   "cell_type": "code",
   "execution_count": null,
   "metadata": {},
   "outputs": [],
   "source": []
  }
 ],
 "metadata": {
  "kernelspec": {
   "display_name": "Python 3",
   "language": "python",
   "name": "python3"
  },
  "language_info": {
   "codemirror_mode": {
    "name": "ipython",
    "version": 3
   },
   "file_extension": ".py",
   "mimetype": "text/x-python",
   "name": "python",
   "nbconvert_exporter": "python",
   "pygments_lexer": "ipython3",
   "version": "3.7.1"
  }
 },
 "nbformat": 4,
 "nbformat_minor": 2
}
